{
 "cells": [
  {
   "cell_type": "code",
   "execution_count": 89,
   "metadata": {},
   "outputs": [],
   "source": [
    "# ~ = NOT ~p\n",
    "# & = AND p&q\n",
    "# | = OR p|q\n",
    "# >> = implies p>>q\n",
    "# () = Parenthesis to structure the belief p>>(q&r)"
   ]
  },
  {
   "cell_type": "code",
   "execution_count": 1,
   "metadata": {},
   "outputs": [],
   "source": [
    "from sympy.logic.boolalg import to_cnf, And, Or, Not, Implies, Equivalent\n",
    "from sympy.abc import A, B, D\n",
    "from typing import List\n",
    "from sympy import *"
   ]
  },
  {
   "cell_type": "code",
   "execution_count": 24,
   "metadata": {},
   "outputs": [
    {
     "ename": "IndentationError",
     "evalue": "expected an indented block after 'for' statement on line 62 (178872481.py, line 70)",
     "output_type": "error",
     "traceback": [
      "\u001b[1;36m  Cell \u001b[1;32mIn[24], line 70\u001b[1;36m\u001b[0m\n\u001b[1;33m    def conjugation_KB_alpha(self, alpha):\u001b[0m\n\u001b[1;37m    ^\u001b[0m\n\u001b[1;31mIndentationError\u001b[0m\u001b[1;31m:\u001b[0m expected an indented block after 'for' statement on line 62\n"
     ]
    }
   ],
   "source": [
    "class Belief_Base:\n",
    "\n",
    "    def __init__(self):\n",
    "        self.beliefBase = [] # Storing beliefs put into the belief base as list of lists\n",
    "        self.CNF = [] # Storing CNF form of beliefs put into the belief base as list of lists\n",
    "        self.beliefBaseVariableLimit = 8 # If there are more than 8 variables the flag must be set to True to simplify (default is False)\n",
    "        \n",
    "    #def form_to_cnf(self, formula: str) -> None:\n",
    "    def form_to_cnf(self, formula):\n",
    "        self.formula = formula\n",
    "        self.cnf = to_cnf(formula)\n",
    "        #print(self.cnf)\n",
    "        return self.cnf \n",
    "    \n",
    "    def query_belief(self, belief): # Checks if a belief is present in the belief base \n",
    "        if belief in self.beliefs:\n",
    "            return True\n",
    "        else:\n",
    "            return False\n",
    "    \n",
    "    def add(self, belief, score):\n",
    "        belief = belief.replace(' ', '')  # Remove whitespace\n",
    "        #belief = simplify(belief)\n",
    "        self.beliefBase.append([belief, score])\n",
    "        \n",
    "        CNF=self.form_to_cnf(belief)\n",
    "        self.CNF.append(CNF)\n",
    "\n",
    "        \n",
    "        #new_CNF = []\n",
    "        #for i in range(len(CNF)):\n",
    "           # if not is_tautology(CNF[i]):\n",
    "                # Check that the CNF clause is not a tautology, and reduce it before adding\n",
    "         #   new_CNF.append(CNF[i])\n",
    "        #self.CNF.append(new_CNF_)\n",
    "    \n",
    "    \n",
    "    def contract(self, belief):\n",
    "        # Remove belief from belief base\n",
    "        for i in range(len(self.beliefBase)):\n",
    "            if self.beliefBase[i][0] == belief:\n",
    "                self.beliefBase.pop(i)\n",
    "                self.CNF.pop(i)\n",
    "                break\n",
    "        \n",
    "        # Remove any other beliefs that are logically entailed by the belief\n",
    "        new_belief_base = []\n",
    "        new_CNF = []\n",
    "        for b, c in self.beliefBase:\n",
    "            if not implies(belief, b):\n",
    "                new_belief_base.append([b, c])\n",
    "                new_CNF.append(self.form_to_cnf(b))\n",
    "        self.beliefBase = new_belief_base\n",
    "        self.CNF = new_CNF\n",
    "\n",
    "    def resolution(self, alpha):\n",
    "        KB_con_alpha = conjugation_KB_alpha(alpha) # gives KB ∧ ¬α\n",
    "        clauses = KB_con_alpha.args # gives the clauses in KB ∧ ¬α\n",
    "        new = {}\n",
    "\n",
    "        for i in range(0,len(clauses)):\n",
    "            for j in range(i+1, len()):\n",
    "                if \n",
    "\n",
    "    def presolve(c1, c2):\n",
    "        c1_list = c1.args\n",
    "        c2_list = c2.args\n",
    "        \n",
    "        for c1_elem in \n",
    "\n",
    "    # Alpha should be \n",
    "    # def entailement(self, alpha):\n",
    "\n",
    "\n",
    "    def conjugation_KB_alpha(self, alpha):\n",
    "        KB = And(*self.CNF)\n",
    "        return And(KB, Not(alpha))"
   ]
  },
  {
   "cell_type": "code",
   "execution_count": 92,
   "metadata": {},
   "outputs": [],
   "source": [
    "#def clauses(belief):\n",
    " #   clauses_lst=[]\n",
    "  #  clauses_lst.append(belief.split('|'))\n",
    "    \n",
    "   # return clauses_lst"
   ]
  },
  {
   "cell_type": "code",
   "execution_count": 23,
   "metadata": {},
   "outputs": [
    {
     "name": "stdout",
     "output_type": "stream",
     "text": [
      "p & (p | s | ~r) & ~(D | ~(A | B | C))\n",
      "p & ~D & (A | B | C) & (p | s | ~r)\n",
      "p\n",
      "~D\n",
      "A | B | C\n",
      "p | s | ~r\n"
     ]
    }
   ],
   "source": [
    "form= \"~(A | B) | D\"\n",
    "form2= \"r >> (p | s)\"\n",
    "alpha = \"~(A | B | C) | D\"\n",
    "\n",
    "\n",
    "bb = Belief_Base()\n",
    "bb.add(form2,0.1)\n",
    "bb.add(\"p\",0.1)\n",
    "conj_all =  bb.conjugation_KB_alpha(alpha)\n",
    "cnf_conj_all = bb.form_to_cnf(conj_all)\n",
    "print(conj_all)\n",
    "print(cnf_conj_all)\n",
    "\n",
    "for a in cnf_conj_all.args:\n",
    "    print(a)\n",
    "\n",
    "# clauses = cnf_conj_all.split('&')\n",
    "# print(clauses)\n",
    "#bb.add(\"p -> q\")\n",
    "#bb.add(\"q -> r\")\n",
    "# print(bb.beliefBase)\n",
    "# print(bb.CNF)"
   ]
  },
  {
   "cell_type": "code",
   "execution_count": null,
   "metadata": {},
   "outputs": [],
   "source": []
  }
 ],
 "metadata": {
  "kernelspec": {
   "display_name": "base",
   "language": "python",
   "name": "python3"
  },
  "language_info": {
   "codemirror_mode": {
    "name": "ipython",
    "version": 3
   },
   "file_extension": ".py",
   "mimetype": "text/x-python",
   "name": "python",
   "nbconvert_exporter": "python",
   "pygments_lexer": "ipython3",
   "version": "3.10.0"
  },
  "orig_nbformat": 4
 },
 "nbformat": 4,
 "nbformat_minor": 2
}
