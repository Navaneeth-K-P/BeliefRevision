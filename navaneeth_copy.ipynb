{
 "cells": [
  {
   "cell_type": "code",
   "execution_count": 43,
   "metadata": {},
   "outputs": [],
   "source": [
    "from sympy.logic.boolalg import to_cnf, And, Or, Not, Implies, Equivalent\n",
    "from sympy.abc import A, B, D\n",
    "from typing import List\n",
    "from sympy import *\n",
    "from copy import deepcopy"
   ]
  },
  {
   "cell_type": "code",
   "execution_count": 39,
   "metadata": {},
   "outputs": [],
   "source": [
    "class Belief_Base:\n",
    "\n",
    "    def __init__(self):\n",
    "        self.beliefBase = [] # Storing beliefs put into the belief base as list of lists\n",
    "        self.CNF = [] # Storing CNF form of beliefs put into the belief base as list of lists\n",
    "        self.beliefBaseVariableLimit = 8 # If there are more than 8 variables the flag must be set to True to simplify (default is False)\n",
    "        \n",
    "    #def form_to_cnf(self, formula: str) -> None:\n",
    "    def form_to_cnf(self, formula):\n",
    "        formula = formula\n",
    "        cnf = to_cnf(formula)\n",
    "        #print(self.cnf)\n",
    "        return cnf \n",
    "    \n",
    "    def query_belief(self, belief): # Checks if a belief is present in the belief base \n",
    "        if belief in self.beliefs:\n",
    "            return True\n",
    "        else:\n",
    "            return False\n",
    "    \n",
    "    def add(self, belief, score):\n",
    "        belief = belief.replace(' ', '')  # Remove whitespace\n",
    "        #belief = simplify(belief)\n",
    "        self.beliefBase.append([belief, score])\n",
    "        \n",
    "        CNF=self.form_to_cnf(belief)\n",
    "        self.CNF.append(CNF)\n",
    "\n",
    "        \n",
    "        #new_CNF = []\n",
    "        #for i in range(len(CNF)):\n",
    "           # if not is_tautology(CNF[i]):\n",
    "                # Check that the CNF clause is not a tautology, and reduce it before adding\n",
    "         #   new_CNF.append(CNF[i])\n",
    "        #self.CNF.append(new_CNF_)\n",
    "    \n",
    "    \n",
    "    def contract(self, belief):\n",
    "        # Remove belief from belief base\n",
    "        for i in range(len(self.beliefBase)):\n",
    "            if self.beliefBase[i][0] == belief:\n",
    "                self.beliefBase.pop(i)\n",
    "                self.CNF.pop(i)\n",
    "                break\n",
    "        \n",
    "        # Remove any other beliefs that are logically entailed by the belief\n",
    "        new_belief_base = []\n",
    "        new_CNF = []\n",
    "        for b, c in self.beliefBase:\n",
    "            if not implies(belief, b):\n",
    "                new_belief_base.append([b, c])\n",
    "                new_CNF.append(self.form_to_cnf(b))\n",
    "        self.beliefBase = new_belief_base\n",
    "        self.CNF = new_CNF\n",
    "\n",
    "\n",
    "    def check_resolvable(self, c1,c2):\n",
    "        c1_list = list(c1.args)\n",
    "        if(len(c1_list)<2):\n",
    "            c1_list = [c1]\n",
    "\n",
    "        c2_list = list(c2.args)\n",
    "        if(len(c2_list)<2):\n",
    "            c2_list = [c2]\n",
    "\n",
    "        # print(\"checking resolvability function: \",c1_list, c2_list)\n",
    "        for c1_elem in c1_list:\n",
    "            for c2_elem in c2_list:\n",
    "                if c1_elem == Not(c2_elem):\n",
    "                    # print(\"True\")\n",
    "                    return True\n",
    "                    \n",
    "                    \n",
    "        # print(\"False\")\n",
    "        return False\n",
    "\n",
    "\n",
    "    def presolve(self, c1, c2):\n",
    "        # print(\"Entered presolve\")\n",
    "        flag = 0\n",
    "        c1_list = list(c1.args)\n",
    "        if(len(c1_list)<2):\n",
    "            c1_list = [c1]\n",
    "\n",
    "        c2_list = list(c2.args)\n",
    "        if(len(c2_list)<2):\n",
    "            c2_list = [c2]\n",
    "        # print(c1_list, c2_list)\n",
    "        \n",
    "        while(self.check_resolvable(c1, c2)):\n",
    "            for c1_elem in c1_list:\n",
    "                for c2_elem in c2_list:\n",
    "                    if c1_elem == Not(c2_elem):\n",
    "                        c1_list.remove(c1_elem)\n",
    "                        c2_list.remove(c2_elem)\n",
    "                        # print(c1_list, c2_list)\n",
    "                        if(len(c1_list)>0 and len(c1_list)>0):\n",
    "                            c1 = Or(*c1_list)\n",
    "                            c2 = Or(*c2_list)\n",
    "                        else:\n",
    "                            if len(c1_list) == 0:\n",
    "                                return(Or(*self.unique(c2_list)))\n",
    "                            else:\n",
    "                                return(Or(*self.unique(c1_list)))\n",
    "                \n",
    "        combined = Or(*self.unique(c1_list + c2_list))\n",
    "\n",
    "        return combined\n",
    "    \n",
    "\n",
    "\n",
    "    def check_subset(self, new, clause_list):\n",
    "\n",
    "        for n in new:\n",
    "            if n not in clause_list:\n",
    "                return False\n",
    "        \n",
    "        return True\n",
    "\n",
    "\n",
    "\n",
    "    # Alpha should be \n",
    "    def entailement(self, alpha):\n",
    "        KB_alpha = self.conjugation_KB_alpha(alpha) # gives KB ∧ ¬α\n",
    "        # print(\"KB_alpha: \", KB_alpha)\n",
    "        KB_alpha_CNF = self.form_to_cnf(KB_alpha)\n",
    "        # print(\"KB_alpha_CNF: \", KB_alpha_CNF)\n",
    "        clauses = KB_alpha_CNF.args # gives the clauses in KB ∧ ¬α\n",
    "        # print(\"clauses: \", clauses)\n",
    "        clauses_list = list(clauses)\n",
    "        # print(\"clauses_list: \", clauses_list)\n",
    "        \n",
    "        \n",
    "        while True:\n",
    "            new = []\n",
    "            for i in range(0,len(clauses_list)):\n",
    "                for j in range(i+1, len(clauses_list)):\n",
    "                    # print(f\"Checking {clauses_list[i]} and {clauses_list[j]}\")\n",
    "                    if(self.check_resolvable(clauses_list[i], clauses_list[j])):\n",
    "                        # print(f\"Resolving {clauses_list[i]} and {clauses_list[j]}\")\n",
    "                        resolvents = self.presolve(clauses_list[i], clauses_list[j])\n",
    "                        # print(\"Result of resolution: \", resolvents)\n",
    "                        if resolvents == False:\n",
    "                            return True\n",
    "                        new.append(resolvents)\n",
    "                        # print(\"New after appending: \", new)\n",
    "\n",
    "            # print(f\"Checking if {new} is a subset of {clauses_list}\")\n",
    "            if(self.check_subset(new, clauses_list)):\n",
    "                # print(f\"{new} is a subset of {clauses_list}\")\n",
    "                return False\n",
    "            # print(f\"{new} is not a subset of {clauses_list}\")\n",
    "            clauses_list = self.unique(clauses_list + new)\n",
    "            # print(\"clauses+new = \", clauses_list)\n",
    "            \n",
    "\n",
    "\n",
    "\n",
    "\n",
    "    def conjugation_KB_alpha(self, alpha):\n",
    "        KB = And(*self.CNF)\n",
    "        return And(KB, Not(alpha))\n",
    "    \n",
    "    def unique(self, a):\n",
    "        un = list(set(a))\n",
    "        return un\n",
    "    \n",
    "\n",
    "    def consequence(self):\n",
    "        \n",
    "        KB_list = deepcopy(self.beliefBase)\n",
    "        while True:\n",
    "            \n",
    "            new = []\n",
    "            for i in range(0,len(KB_list)):\n",
    "                for j in range(0, len(KB_list)):\n",
    "                    if i == j:\n",
    "                        continue\n",
    "\n",
    "                    else:\n",
    "                        # Hypothetical syllogism\n",
    "                        if isinstance(KB_list[i], Implies) and isinstance(KB_list[j], Implies):\n",
    "                            print(KB_list[i].args, KB_list[j].args)"
   ]
  },
  {
   "cell_type": "code",
   "execution_count": 42,
   "metadata": {},
   "outputs": [
    {
     "name": "stdout",
     "output_type": "stream",
     "text": [
      "[['A', 0.1], ['A>>B', 0.1]]\n",
      "False\n"
     ]
    }
   ],
   "source": [
    "form= \"~(A | B) | D\"\n",
    "form2= \"r >> (p | s)\"\n",
    "alpha = \"~(A | B | C) | D\"\n",
    "# f1 = \"A | B\"\n",
    "# f2 = \"B | A\"\n",
    "\n",
    "bb = Belief_Base()\n",
    "# bb.add(form2,0.1)\n",
    "# bb.add(\"p\",0.1)\n",
    "# bb.add(f1, 0.1)\n",
    "bb.add(\"A\",0.1)\n",
    "bb.add(\"A>>B\", 0.1)\n",
    "\n",
    "\n",
    "print(bb.beliefBase)\n",
    "p_not = \"p>>q\"\n",
    "# print(bb.entailement(f2))\n",
    "print(bb.entailement(\"~B\"))"
   ]
  },
  {
   "cell_type": "code",
   "execution_count": null,
   "metadata": {},
   "outputs": [
    {
     "name": "stdout",
     "output_type": "stream",
     "text": [
      "p & (p | s | ~r) & ~(D | ~(A | B | C))\n",
      "p & ~D & (A | B | C) & (p | s | ~r)\n",
      "p\n",
      "~D\n",
      "A | B | C\n",
      "p | s | ~r\n"
     ]
    }
   ],
   "source": [
    "form= \"~(A | B) | D\"\n",
    "form2= \"r >> (p | s)\"\n",
    "alpha = \"~(A | B | C) | D\"\n",
    "\n",
    "\n",
    "bb = Belief_Base()\n",
    "bb.add(form2,0.1)\n",
    "bb.add(\"p\",0.1)\n",
    "conj_all =  bb.conjugation_KB_alpha(alpha)\n",
    "cnf_conj_all = bb.form_to_cnf(conj_all)\n",
    "print(conj_all)\n",
    "print(cnf_conj_all)\n",
    "\n",
    "for a in cnf_conj_all.args:\n",
    "    print(a)\n",
    "\n",
    "# clauses = cnf_conj_all.split('&')\n",
    "# print(clauses)\n",
    "#bb.add(\"p -> q\")\n",
    "#bb.add(\"q -> r\")\n",
    "# print(bb.beliefBase)\n",
    "# print(bb.CNF)"
   ]
  },
  {
   "cell_type": "code",
   "execution_count": null,
   "metadata": {},
   "outputs": [
    {
     "data": {
      "text/plain": [
       "(p, ~D, A | B | C, p | s | ~r)"
      ]
     },
     "execution_count": 19,
     "metadata": {},
     "output_type": "execute_result"
    }
   ],
   "source": [
    "cnf_conj_all.args"
   ]
  },
  {
   "cell_type": "code",
   "execution_count": null,
   "metadata": {},
   "outputs": [
    {
     "name": "stdout",
     "output_type": "stream",
     "text": [
      "[x, y] [x, ~y]\n",
      "[x] [x]\n",
      "x\n"
     ]
    }
   ],
   "source": [
    "x = Symbol('x')\n",
    "y = Symbol('y')\n",
    "A = Or(x,y)\n",
    "B = Or(x,Not(y))\n",
    "r = bb.presolve(A,B)\n",
    "\n",
    "print(r)"
   ]
  },
  {
   "cell_type": "code",
   "execution_count": null,
   "metadata": {},
   "outputs": [
    {
     "name": "stdout",
     "output_type": "stream",
     "text": [
      "[x, y, z] [x, z, ~y]\n",
      "[x, z] [x, z]\n",
      "x | z\n"
     ]
    }
   ],
   "source": [
    "x = Symbol('x')\n",
    "y = Symbol('y')\n",
    "z = Symbol('z')\n",
    "A = Or(x,y,z)\n",
    "B = Or(x,Not(y),z)\n",
    "r = bb.presolve(A,B)\n",
    "print(r)"
   ]
  },
  {
   "cell_type": "code",
   "execution_count": null,
   "metadata": {},
   "outputs": [
    {
     "name": "stdout",
     "output_type": "stream",
     "text": [
      "[x, y, z] [x, ~y, ~z]\n",
      "[x, z] [x, ~z]\n",
      "[x] [x]\n",
      "x\n"
     ]
    }
   ],
   "source": [
    "x = Symbol('x')\n",
    "y = Symbol('y')\n",
    "z = Symbol('z')\n",
    "A = Or(x,y,z)\n",
    "B = Or(x,Not(y),Not(z))\n",
    "r = bb.presolve(A,B)\n",
    "print(r)"
   ]
  },
  {
   "cell_type": "code",
   "execution_count": null,
   "metadata": {},
   "outputs": [
    {
     "name": "stdout",
     "output_type": "stream",
     "text": [
      "[x, y] [~x, ~y]\n",
      "[y] [~y]\n",
      "[] []\n",
      "len\n",
      "False\n"
     ]
    }
   ],
   "source": [
    "x = Symbol('x')\n",
    "y = Symbol('y')\n",
    "A = Or(x,y)\n",
    "B = Or(Not(x),Not(y))\n",
    "r = bb.presolve(A,B)\n",
    "if len(r.args) == 0:\n",
    "    print(\"len\")\n",
    "print(r)"
   ]
  },
  {
   "cell_type": "code",
   "execution_count": null,
   "metadata": {},
   "outputs": [
    {
     "name": "stdout",
     "output_type": "stream",
     "text": [
      "not\n"
     ]
    }
   ],
   "source": [
    "a = Symbol('a')\n",
    "b = Not(a)\n",
    "\n",
    "eq = a == b\n",
    "\n",
    "if eq:\n",
    "    print(\"eq\")\n",
    "else:\n",
    "    print(\"not\")\n"
   ]
  }
 ],
 "metadata": {
  "kernelspec": {
   "display_name": "AI",
   "language": "python",
   "name": "python3"
  },
  "language_info": {
   "codemirror_mode": {
    "name": "ipython",
    "version": 3
   },
   "file_extension": ".py",
   "mimetype": "text/x-python",
   "name": "python",
   "nbconvert_exporter": "python",
   "pygments_lexer": "ipython3",
   "version": "3.10.0"
  },
  "orig_nbformat": 4
 },
 "nbformat": 4,
 "nbformat_minor": 2
}
